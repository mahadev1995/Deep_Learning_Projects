{
  "nbformat": 4,
  "nbformat_minor": 0,
  "metadata": {
    "colab": {
      "name": "GAN.ipynb",
      "provenance": [],
      "collapsed_sections": []
    },
    "kernelspec": {
      "name": "python3",
      "display_name": "Python 3"
    },
    "accelerator": "GPU"
  },
  "cells": [
    {
      "cell_type": "code",
      "metadata": {
        "id": "oLttLGlBHdYU"
      },
      "source": [
        "import torch\n",
        "import torch.nn as nn\n",
        "import torch.optim as optim\n",
        "import torchvision\n",
        "import torchvision.datasets as datasets\n",
        "from torch.utils.data import DataLoader\n",
        "import torchvision.transforms as transforms\n",
        "from torch.utils.tensorboard import SummaryWriter"
      ],
      "execution_count": null,
      "outputs": []
    },
    {
      "cell_type": "code",
      "metadata": {
        "id": "zOICD5GGH_J8"
      },
      "source": [
        "class Discriminator(nn.Module):\n",
        "  def __init__(self, img_dim):\n",
        "    super().__init__()\n",
        "    self.discriminator = nn.Sequential(\n",
        "        nn.Linear(in_features=img_dim, out_features=128),\n",
        "        nn.LeakyReLU(negative_slope=0.1),\n",
        "        nn.Linear(in_features=128, out_features=1),\n",
        "        nn.Sigmoid(),\n",
        "    )\n",
        "\n",
        "  def forward(self, x):\n",
        "    return self.discriminator(x)\n",
        "\n",
        "class Generator(nn.Module):\n",
        "  def __init__(self, noise_dim, img_dim):\n",
        "    super().__init__()\n",
        "    self.generator = nn.Sequential(\n",
        "        nn.Linear(in_features=z_dim, out_features=256),\n",
        "        nn.LeakyReLU(negative_slope=0.1),\n",
        "        nn.Linear(in_features=256, out_features=img_dim),\n",
        "        nn.Tanh(),\n",
        "    )\n",
        "  \n",
        "  def forward(self, x):\n",
        "    return self.generator(x)"
      ],
      "execution_count": null,
      "outputs": []
    },
    {
      "cell_type": "code",
      "metadata": {
        "colab": {
          "base_uri": "https://localhost:8080/"
        },
        "id": "BV8CKZFFJOe1",
        "outputId": "08f8bb9f-0b6a-4a42-8c45-58841d4229e5"
      },
      "source": [
        "device = \"cuda\" if torch.cuda.is_available() else \"cpu\"\n",
        "lr_rate = 3e-04\n",
        "z_dim = 64    \n",
        "img_dim = 28*28*1\n",
        "batch_size = 32\n",
        "epochs = 50\n",
        "\n",
        "discriminator = Discriminator(img_dim).to(device)\n",
        "generator = Generator(z_dim, img_dim).to(device)\n",
        "\n",
        "noise_fixed = torch.randn((batch_size, z_dim)).to(device)\n",
        "transformations = transforms.Compose(\n",
        "    [transforms.ToTensor(), transforms.Normalize((0.5,), (0.5,)),]\n",
        ")\n",
        "\n",
        "datasets = datasets.MNIST(root=\"dataset/\", transform=transformations, download=True)\n",
        "loader = DataLoader(datasets, batch_size=batch_size, shuffle=True)\n",
        "\n",
        "opt_discriminator = optim.Adam(discriminator.parameters(), lr = lr_rate)\n",
        "opt_generator = optim.Adam(generator.parameters(), lr = lr_rate)\n",
        "criterion = nn.BCELoss()\n",
        "\n",
        "writer_fake = SummaryWriter(f\"fake_GAN/\")\n",
        "writer_real = SummaryWriter(f\"real_GAN/\")\n",
        "\n",
        "step = 0\n",
        "for epoch in range(epochs):\n",
        "  for batch_idx, (real, _) in enumerate(loader):\n",
        "    real = real.view(-1, 784).to(device)\n",
        "    batch_size = real.shape[0]\n",
        "    #Discriminator training\n",
        "    noise = torch.randn((batch_size, z_dim)).to(device)\n",
        "    fake = generator(noise)\n",
        "    disc_real = discriminator(real).view(-1)\n",
        "    loss_disc_real = criterion(disc_real, torch.ones_like(disc_real))\n",
        "    disc_fake = discriminator(fake.detach()).view(-1)\n",
        "    loss_disc_fake = criterion(disc_fake, torch.zeros_like(disc_fake))\n",
        "\n",
        "    loss_disc = (loss_disc_real + loss_disc_fake)/2\n",
        "    discriminator.zero_grad()\n",
        "    loss_disc.backward(retain_graph=True)\n",
        "    opt_discriminator.step()\n",
        "\n",
        "    #Generator training\n",
        "    output = discriminator(fake).view(-1)\n",
        "    loss_generator = criterion(output, torch.ones_like(output))\n",
        "    generator.zero_grad()\n",
        "    loss_generator.backward()\n",
        "    opt_generator.step()\n",
        "\n",
        "    if batch_idx == 0:\n",
        "      print(\n",
        "          f\"Epoch [{epoch}/{epochs}] \\ \"\n",
        "          f\"Loss Discriminator: {loss_disc: .4f}, Loss Generator: {loss_generator: .4f}\"\n",
        "      )\n",
        "      with torch.no_grad():\n",
        "        fake = generator(noise_fixed).reshape(-1, 1, 28, 28)\n",
        "        data = real.reshape(-1, 1, 28, 28)\n",
        "        img_grid_fake = torchvision.utils.make_grid(fake, normalize=True)\n",
        "        img_grid_real = torchvision.utils.make_grid(data, normalize=True)\n",
        "\n",
        "        writer_fake.add_image(\n",
        "                    \"Mnist Fake Images\", img_grid_fake, global_step=step\n",
        "                )\n",
        "        writer_real.add_image(\n",
        "                    \"Mnist Real Images\", img_grid_real, global_step=step\n",
        "                )\n",
        "        step += 1"
      ],
      "execution_count": null,
      "outputs": [
        {
          "output_type": "stream",
          "text": [
            "Epoch [0/50] \\ Loss Discriminator:  0.6779, Loss Generator:  0.6651\n",
            "Epoch [1/50] \\ Loss Discriminator:  0.5781, Loss Generator:  0.9516\n",
            "Epoch [2/50] \\ Loss Discriminator:  0.3800, Loss Generator:  1.4256\n",
            "Epoch [3/50] \\ Loss Discriminator:  0.9031, Loss Generator:  0.6232\n",
            "Epoch [4/50] \\ Loss Discriminator:  0.9864, Loss Generator:  0.6459\n",
            "Epoch [5/50] \\ Loss Discriminator:  0.4381, Loss Generator:  1.3398\n",
            "Epoch [6/50] \\ Loss Discriminator:  0.3738, Loss Generator:  1.3335\n",
            "Epoch [7/50] \\ Loss Discriminator:  0.7732, Loss Generator:  0.8697\n",
            "Epoch [8/50] \\ Loss Discriminator:  0.4661, Loss Generator:  1.8147\n",
            "Epoch [9/50] \\ Loss Discriminator:  0.6080, Loss Generator:  0.9118\n",
            "Epoch [10/50] \\ Loss Discriminator:  0.8070, Loss Generator:  0.7885\n",
            "Epoch [11/50] \\ Loss Discriminator:  0.6315, Loss Generator:  1.1614\n",
            "Epoch [12/50] \\ Loss Discriminator:  0.7285, Loss Generator:  1.2860\n",
            "Epoch [13/50] \\ Loss Discriminator:  0.5687, Loss Generator:  1.1223\n",
            "Epoch [14/50] \\ Loss Discriminator:  0.5841, Loss Generator:  1.0995\n",
            "Epoch [15/50] \\ Loss Discriminator:  0.4507, Loss Generator:  1.3105\n",
            "Epoch [16/50] \\ Loss Discriminator:  0.4828, Loss Generator:  1.5958\n",
            "Epoch [17/50] \\ Loss Discriminator:  0.6100, Loss Generator:  1.1915\n",
            "Epoch [18/50] \\ Loss Discriminator:  0.6141, Loss Generator:  1.2620\n",
            "Epoch [19/50] \\ Loss Discriminator:  0.7243, Loss Generator:  0.9323\n",
            "Epoch [20/50] \\ Loss Discriminator:  0.6420, Loss Generator:  0.8466\n",
            "Epoch [21/50] \\ Loss Discriminator:  0.5633, Loss Generator:  1.1676\n",
            "Epoch [22/50] \\ Loss Discriminator:  0.5751, Loss Generator:  1.2735\n",
            "Epoch [23/50] \\ Loss Discriminator:  0.5375, Loss Generator:  1.3717\n",
            "Epoch [24/50] \\ Loss Discriminator:  0.5881, Loss Generator:  1.2741\n",
            "Epoch [25/50] \\ Loss Discriminator:  0.7212, Loss Generator:  0.9060\n",
            "Epoch [26/50] \\ Loss Discriminator:  0.6077, Loss Generator:  1.0333\n",
            "Epoch [27/50] \\ Loss Discriminator:  0.5557, Loss Generator:  1.1754\n",
            "Epoch [28/50] \\ Loss Discriminator:  0.5145, Loss Generator:  1.2309\n",
            "Epoch [29/50] \\ Loss Discriminator:  0.7626, Loss Generator:  0.7768\n",
            "Epoch [30/50] \\ Loss Discriminator:  0.5014, Loss Generator:  1.0356\n",
            "Epoch [31/50] \\ Loss Discriminator:  0.7209, Loss Generator:  0.8836\n",
            "Epoch [32/50] \\ Loss Discriminator:  0.7516, Loss Generator:  0.7711\n",
            "Epoch [33/50] \\ Loss Discriminator:  0.7570, Loss Generator:  0.7511\n",
            "Epoch [34/50] \\ Loss Discriminator:  0.5740, Loss Generator:  1.1405\n",
            "Epoch [35/50] \\ Loss Discriminator:  0.6693, Loss Generator:  0.9527\n",
            "Epoch [36/50] \\ Loss Discriminator:  0.5152, Loss Generator:  1.1842\n",
            "Epoch [37/50] \\ Loss Discriminator:  0.4166, Loss Generator:  1.4990\n",
            "Epoch [38/50] \\ Loss Discriminator:  0.6438, Loss Generator:  0.8108\n",
            "Epoch [39/50] \\ Loss Discriminator:  0.6862, Loss Generator:  1.0240\n",
            "Epoch [40/50] \\ Loss Discriminator:  0.5685, Loss Generator:  1.3821\n",
            "Epoch [41/50] \\ Loss Discriminator:  0.5437, Loss Generator:  1.0007\n",
            "Epoch [42/50] \\ Loss Discriminator:  0.7675, Loss Generator:  0.8343\n",
            "Epoch [43/50] \\ Loss Discriminator:  0.6828, Loss Generator:  1.1796\n",
            "Epoch [44/50] \\ Loss Discriminator:  0.5999, Loss Generator:  1.0979\n",
            "Epoch [45/50] \\ Loss Discriminator:  0.6708, Loss Generator:  1.1234\n",
            "Epoch [46/50] \\ Loss Discriminator:  0.5700, Loss Generator:  1.0096\n",
            "Epoch [47/50] \\ Loss Discriminator:  0.5546, Loss Generator:  1.0039\n",
            "Epoch [48/50] \\ Loss Discriminator:  0.6606, Loss Generator:  0.8999\n",
            "Epoch [49/50] \\ Loss Discriminator:  0.6285, Loss Generator:  1.1942\n"
          ],
          "name": "stdout"
        }
      ]
    },
    {
      "cell_type": "code",
      "metadata": {
        "id": "78aGZ3opf-hR"
      },
      "source": [
        ""
      ],
      "execution_count": null,
      "outputs": []
    },
    {
      "cell_type": "code",
      "metadata": {
        "id": "7XDdugwqlBQm"
      },
      "source": [
        ""
      ],
      "execution_count": null,
      "outputs": []
    },
    {
      "cell_type": "code",
      "metadata": {
        "id": "HYRj65LllFCc"
      },
      "source": [
        ""
      ],
      "execution_count": null,
      "outputs": []
    }
  ]
}